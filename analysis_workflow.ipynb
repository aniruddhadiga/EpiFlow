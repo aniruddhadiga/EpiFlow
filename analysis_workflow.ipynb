{
 "cells": [
  {
   "cell_type": "code",
   "execution_count": null,
   "id": "024a2b52-45c9-4c66-826c-ceb3fd217c9b",
   "metadata": {
    "tags": []
   },
   "outputs": [],
   "source": [
    "import pandas as pd\n",
    "from viral_utils import ActivityPipelineRunner\n",
    "from data_proc_utils import denoise_VAL\n",
    "from ww_analyzer import PermutationEntropyAnalyzer, GetOptimalWindow, GrangerCausalityAnalyzer\n",
    "from viral_utils import ViralActivityProcessor\n"
   ]
  },
  {
   "cell_type": "code",
   "execution_count": null,
   "id": "c20597d0-7df2-4ec3-bc59-80920cc86e10",
   "metadata": {
    "tags": []
   },
   "outputs": [],
   "source": [
    "raw_data_path = 'raw_data/wastewater_viral_load_virginia.csv'\n",
    "sewershed_list_path = 'misc_data/sewersheds_virginia.txt'\n",
    "sewershed_output_dir = './processed_data/viral_activity_level/sewershed/'\n",
    "merged_output_dir = './processed_data/viral_activity_level/'\n",
    "\n",
    "pipeline = ActivityPipelineRunner(\n",
    "    raw_data_path=raw_data_path,\n",
    "    sewershed_list_path=sewershed_list_path,\n",
    "    output_dir=sewershed_output_dir,\n",
    "    merged_output_dir=merged_output_dir\n",
    ")\n",
    "pipeline.run()"
   ]
  },
  {
   "cell_type": "code",
   "execution_count": null,
   "id": "be19a2e9-f9d2-494c-9612-f2b2cd181556",
   "metadata": {},
   "outputs": [],
   "source": [
    "mergedf=pd.DataFrame()\n",
    "\n",
    "rdf=pd.read_csv('processed_data/viral_activity_level/region_viral_activity_level.csv',parse_dates=['time_value'])\n",
    "sdf=pd.read_csv('processed_data/viral_activity_level/state_viral_activity_level.csv',parse_dates=['time_value'])\n",
    "\n",
    "mergedf=pd.concat([rdf,sdf])\n",
    "mergedf.time_value=mergedf.time_value+pd.Timedelta(days=6)\n",
    "\n",
    "hdf=pd.read_csv('processed_data/hosp_region/hosp_region_virginia.csv',parse_dates=['time_value'])\n",
    "\n",
    "mergedf=mergedf[['geo_value','time_value','geo_res','viral_activity_level']].merge(hdf,how='outer')\n",
    "\n",
    "mergedf.to_csv('processed_data/alldata_combined.csv',index=None)"
   ]
  },
  {
   "cell_type": "code",
   "execution_count": null,
   "id": "a723a3fd-3701-47ad-b048-ea0ffc25f185",
   "metadata": {
    "tags": []
   },
   "outputs": [],
   "source": [
    "df=pd.read_csv('processed_data/alldata_combined.csv',parse_dates=['time_value'])\n",
    "df.loc[:,'time_value']=pd.to_datetime(df.time_value)\n",
    "\n",
    "all_sig=denoise_VAL(df,optimize=False)\n",
    "dfn=df.merge(all_sig,on=['time_value','geo_value','viral_activity_level'])\n",
    "\n",
    "dfn.to_csv('processed_data/alldata_combined_denoised.csv',index=None)\n"
   ]
  },
  {
   "cell_type": "code",
   "execution_count": null,
   "id": "372b06d8-d1c0-41e9-80a7-ef2164006fd9",
   "metadata": {
    "tags": []
   },
   "outputs": [],
   "source": [
    "all_data = pd.read_csv('processed_data/alldata_combined_denoised.csv')\n",
    "order=[3,4]\n",
    "region='Virginia'\n",
    "var='viral_activity_level'\n",
    "filtered_df=ViralActivityProcessor(all_data).get_filtered_data(var,region)#all_data[(all_data['time_value'] > '2022-10-01')&(all_data.geo_value==region)]\n",
    "valid_viral = filtered_df[var].values\n",
    "pe_analyzer = PermutationEntropyAnalyzer(valid_viral, region=region)"
   ]
  },
  {
   "cell_type": "code",
   "execution_count": null,
   "id": "aa8fe887-4117-415c-80f8-f6afae5b7f49",
   "metadata": {
    "tags": []
   },
   "outputs": [],
   "source": [
    "mregresdf = pe_analyzer.compute_entropy(order_list=[3,4])\n",
    "processor = GetOptimalWindow(mregresdf)\n",
    "win_len, psdf = processor.get_optimal_window()\n",
    "processor.plot_heatmap(psdf)\n"
   ]
  },
  {
   "cell_type": "code",
   "execution_count": null,
   "id": "4e19d1f3-e52b-40f1-9d0f-4b0f59f6d60a",
   "metadata": {
    "tags": []
   },
   "outputs": [],
   "source": [
    "print(f'Optimal window length for {loc} = {win_len} weeks')"
   ]
  },
  {
   "cell_type": "code",
   "execution_count": null,
   "id": "6c592015-5c84-4aa2-ae4b-5acda65e716d",
   "metadata": {
    "tags": []
   },
   "outputs": [],
   "source": [
    "df=pd.read_csv('processed_data/alldata_combined_denoised.csv',parse_dates=['time_value'])\n",
    "var_dict={'viral_activity_level':'VAL','hosp_fac_BOW_7d_avg':'Hosp.','dn_viral_activity_level':'VAL-dn'}\n",
    "df=df.rename(columns=var_dict)\n",
    "x1 = 'Hosp.'\n",
    "x2 = 'VAL-dn'\n",
    "loc = 'Virginia'\n",
    "cols = ['geo_value', 'time_value', 'geo_res', x1, x2]\n",
    "rdf = df[df.geo_value == loc][cols]\n"
   ]
  },
  {
   "cell_type": "code",
   "execution_count": null,
   "id": "725da9df-0bb0-4300-a401-7897b8cdda18",
   "metadata": {
    "tags": []
   },
   "outputs": [],
   "source": [
    "analyzer = GrangerCausalityAnalyzer(rdf, x1, x2)\n",
    "gc_result = analyzer.rolling_GC_test(win=win_len);\n",
    "analyzer.plot();\n"
   ]
  },
  {
   "cell_type": "code",
   "execution_count": null,
   "id": "f0035d25-58c4-4aca-a16e-e62a973f3c9c",
   "metadata": {
    "tags": []
   },
   "outputs": [],
   "source": [
    "import pandas as pd\n",
    "from matplotlib import pyplot as plt\n",
    "import numpy as np\n",
    "from BVAR import BayesianVARForecaster\n",
    "\n",
    "df = pd.read_csv(\"input/data/alldata_combined_denoised.csv\", parse_dates=[\"time_value\"])\n",
    "forecaster = BayesianVARForecaster(\n",
    "    data=df,\n",
    "    var_names=[\"hosp_fac_BOW_7d_avg\", \"dn_viral_activity_level\"],\n",
    "    location=\"VA\",\n",
    "    gtdate=\"2023-12-30\",\n",
    "    forecast_steps=4\n",
    ")\n",
    "\n",
    "forecaster.build_model()\n",
    "forecaster.fit()\n",
    "forecaster.generate_forecast(var_index=0)\n",
    "forecaster.format_forecast(target_name=\"wk inc hosp_fac\")\n",
    "summary_df = forecaster.run_inference_summary()"
   ]
  },
  {
   "cell_type": "code",
   "execution_count": null,
   "id": "675b61e1-f8c1-4534-b322-1db00aed2969",
   "metadata": {},
   "outputs": [],
   "source": []
  }
 ],
 "metadata": {
  "kernelspec": {
   "display_name": "Python 3 (ipykernel)",
   "language": "python",
   "name": "python3"
  },
  "language_info": {
   "codemirror_mode": {
    "name": "ipython",
    "version": 3
   },
   "file_extension": ".py",
   "mimetype": "text/x-python",
   "name": "python",
   "nbconvert_exporter": "python",
   "pygments_lexer": "ipython3",
   "version": "3.11.4"
  }
 },
 "nbformat": 4,
 "nbformat_minor": 5
}
