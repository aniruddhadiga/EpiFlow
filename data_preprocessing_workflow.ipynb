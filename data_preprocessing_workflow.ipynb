{
 "cells": [
  {
   "cell_type": "code",
   "execution_count": 2,
   "id": "769d6c60-f1d9-464b-be02-2077fc06c3d7",
   "metadata": {
    "tags": []
   },
   "outputs": [],
   "source": [
    "import pandas as pd\n",
    "from viral_utils import ActivityPipelineRunner\n",
    "from data_proc_utils import denoise_VAL\n",
    "from ww_analyzer import PermutationEntropyAnalyzer, GetOptimalWindow, GrangerCausalityAnalyzer\n",
    "from viral_utils import ViralActivityProcessor\n"
   ]
  },
  {
   "cell_type": "code",
   "execution_count": 3,
   "id": "4d1c743e-c431-4ebd-a538-c10e317e1557",
   "metadata": {
    "tags": []
   },
   "outputs": [],
   "source": [
    "raw_data_path = 'raw_data/wastewater_viral_load_virginia.csv'\n",
    "sewershed_list_path = 'misc_data/sewersheds_virginia.txt'\n",
    "sewershed_output_dir = './processed_data/viral_activity_level/sewershed/'\n",
    "merged_output_dir = './processed_data/viral_activity_level/'\n",
    "\n"
   ]
  },
  {
   "cell_type": "markdown",
   "id": "a6e27ec5-f22b-436f-8a17-655357805e9b",
   "metadata": {},
   "source": [
    "### Raw data"
   ]
  },
  {
   "cell_type": "code",
   "execution_count": 4,
   "id": "ee843ad2-1a2e-4547-9178-e19e24565cc2",
   "metadata": {
    "tags": []
   },
   "outputs": [],
   "source": [
    "raw_data=pd.read_csv('./raw_data/wastewater_viral_load_virginia.csv')"
   ]
  },
  {
   "cell_type": "code",
   "execution_count": 10,
   "id": "35f22750-7665-4fd4-be89-1d03fec73f32",
   "metadata": {
    "tags": []
   },
   "outputs": [
    {
     "data": {
      "text/html": [
       "<div>\n",
       "<style scoped>\n",
       "    .dataframe tbody tr th:only-of-type {\n",
       "        vertical-align: middle;\n",
       "    }\n",
       "\n",
       "    .dataframe tbody tr th {\n",
       "        vertical-align: top;\n",
       "    }\n",
       "\n",
       "    .dataframe thead th {\n",
       "        text-align: right;\n",
       "    }\n",
       "</style>\n",
       "<table border=\"1\" class=\"dataframe\">\n",
       "  <thead>\n",
       "    <tr style=\"text-align: right;\">\n",
       "      <th></th>\n",
       "      <th>geo_value</th>\n",
       "      <th>EW_stdate</th>\n",
       "      <th>log_viral_load</th>\n",
       "      <th>region</th>\n",
       "      <th>geo_res</th>\n",
       "    </tr>\n",
       "  </thead>\n",
       "  <tbody>\n",
       "    <tr>\n",
       "      <th>0</th>\n",
       "      <td>Alexandria Renew</td>\n",
       "      <td>2021-09-12</td>\n",
       "      <td>28.631653</td>\n",
       "      <td>Northern</td>\n",
       "      <td>sewershed</td>\n",
       "    </tr>\n",
       "    <tr>\n",
       "      <th>1</th>\n",
       "      <td>Alexandria Renew</td>\n",
       "      <td>2021-09-19</td>\n",
       "      <td>27.862133</td>\n",
       "      <td>Northern</td>\n",
       "      <td>sewershed</td>\n",
       "    </tr>\n",
       "    <tr>\n",
       "      <th>2</th>\n",
       "      <td>Alexandria Renew</td>\n",
       "      <td>2021-09-26</td>\n",
       "      <td>28.746163</td>\n",
       "      <td>Northern</td>\n",
       "      <td>sewershed</td>\n",
       "    </tr>\n",
       "    <tr>\n",
       "      <th>3</th>\n",
       "      <td>Alexandria Renew</td>\n",
       "      <td>2021-10-03</td>\n",
       "      <td>27.342005</td>\n",
       "      <td>Northern</td>\n",
       "      <td>sewershed</td>\n",
       "    </tr>\n",
       "    <tr>\n",
       "      <th>4</th>\n",
       "      <td>Alexandria Renew</td>\n",
       "      <td>2021-10-10</td>\n",
       "      <td>28.455197</td>\n",
       "      <td>Northern</td>\n",
       "      <td>sewershed</td>\n",
       "    </tr>\n",
       "  </tbody>\n",
       "</table>\n",
       "</div>"
      ],
      "text/plain": [
       "          geo_value   EW_stdate  log_viral_load    region    geo_res\n",
       "0  Alexandria Renew  2021-09-12       28.631653  Northern  sewershed\n",
       "1  Alexandria Renew  2021-09-19       27.862133  Northern  sewershed\n",
       "2  Alexandria Renew  2021-09-26       28.746163  Northern  sewershed\n",
       "3  Alexandria Renew  2021-10-03       27.342005  Northern  sewershed\n",
       "4  Alexandria Renew  2021-10-10       28.455197  Northern  sewershed"
      ]
     },
     "execution_count": 10,
     "metadata": {},
     "output_type": "execute_result"
    }
   ],
   "source": [
    "raw_data.head()"
   ]
  },
  {
   "cell_type": "code",
   "execution_count": 9,
   "id": "0be63069-d4f3-4e8b-8d1d-d9b8cebb4569",
   "metadata": {
    "tags": []
   },
   "outputs": [
    {
     "data": {
      "text/plain": [
       "array(['Alexandria Renew', 'Aquia', 'Arlington', 'Army Base', 'Atlantic',\n",
       "       'Blacksburg', 'Boat Harbor', 'Broad Run', 'Clintwood',\n",
       "       'Coeburn Norton Wise', 'Farmville', 'HL Mooney', 'Halifax',\n",
       "       'Henrico', 'Hillsville', 'James River', 'Lebanon',\n",
       "       'Little Falls Run', 'Low Moor', 'Lower Jackson', 'Lynchburg',\n",
       "       'Moores Creek', 'Nansemond', 'North River', 'Onancock',\n",
       "       'Parkins Mill', \"Pepper's Ferry\", 'Pound', 'Richmond', 'Roanoke',\n",
       "       'Rocky Mount', 'Tazewell', 'Upper Occoquan',\n",
       "       'Virginia Initiative Plant', 'Williamsburg', 'Wolf Creek',\n",
       "       'York River'], dtype=object)"
      ]
     },
     "execution_count": 9,
     "metadata": {},
     "output_type": "execute_result"
    }
   ],
   "source": [
    "raw_data.geo_value.unique()"
   ]
  },
  {
   "cell_type": "markdown",
   "id": "d061b990-fd9d-440e-b9fc-f55589d59d73",
   "metadata": {},
   "source": [
    "### Convert Viral load to VAL, merge sewershed level data to region and state level using ActivityPipelineRunner"
   ]
  },
  {
   "cell_type": "code",
   "execution_count": null,
   "id": "f8ed2f1a-d632-406d-8e7d-f88d28ca66b0",
   "metadata": {},
   "outputs": [],
   "source": [
    "pipeline = ActivityPipelineRunner(\n",
    "    raw_data_path=raw_data_path,\n",
    "    sewershed_list_path=sewershed_list_path,\n",
    "    output_dir=sewershed_output_dir,\n",
    "    merged_output_dir=merged_output_dir\n",
    ")\n",
    "pipeline.run()"
   ]
  },
  {
   "cell_type": "code",
   "execution_count": null,
   "id": "cb47a6b7-b86d-4b2c-99b1-4341ce0a10b6",
   "metadata": {},
   "outputs": [],
   "source": [
    "mergedf=pd.DataFrame()\n",
    "\n",
    "rdf=pd.read_csv('processed_data/viral_activity_level/region_viral_activity_level.csv',parse_dates=['time_value'])\n",
    "sdf=pd.read_csv('processed_data/viral_activity_level/state_viral_activity_level.csv',parse_dates=['time_value'])\n",
    "\n",
    "mergedf=pd.concat([rdf,sdf])\n",
    "mergedf.time_value=mergedf.time_value+pd.Timedelta(days=6)\n",
    "\n",
    "hdf=pd.read_csv('processed_data/hosp_region/hosp_region_virginia.csv',parse_dates=['time_value'])\n",
    "\n",
    "mergedf=mergedf[['geo_value','time_value','geo_res','viral_activity_level']].merge(hdf,how='outer')\n",
    "\n",
    "mergedf.to_csv('processed_data/alldata_combined.csv',index=None)"
   ]
  }
 ],
 "metadata": {
  "kernelspec": {
   "display_name": "Python 3 (ipykernel)",
   "language": "python",
   "name": "python3"
  },
  "language_info": {
   "codemirror_mode": {
    "name": "ipython",
    "version": 3
   },
   "file_extension": ".py",
   "mimetype": "text/x-python",
   "name": "python",
   "nbconvert_exporter": "python",
   "pygments_lexer": "ipython3",
   "version": "3.11.4"
  }
 },
 "nbformat": 4,
 "nbformat_minor": 5
}
