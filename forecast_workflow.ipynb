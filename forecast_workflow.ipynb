{
 "cells": [
  {
   "cell_type": "code",
   "execution_count": null,
   "id": "5a031553-c154-494e-8d4c-849859107d1a",
   "metadata": {
    "tags": []
   },
   "outputs": [],
   "source": [
    "import pandas as pd\n",
    "from matplotlib import pyplot as plt\n",
    "import numpy as np\n",
    "from BVAR import BayesianVARForecaster\n",
    "\n"
   ]
  },
  {
   "cell_type": "code",
   "execution_count": null,
   "id": "40a0a73b-eef5-4b88-b497-02d9bfdbb42c",
   "metadata": {},
   "outputs": [],
   "source": [
    "df = pd.read_csv(\"processed_data/alldata_combined_denoised.csv\", parse_dates=[\"time_value\"])\n"
   ]
  },
  {
   "cell_type": "code",
   "execution_count": null,
   "id": "396d532c-1bf5-44c6-81ef-5c32a50235ae",
   "metadata": {},
   "outputs": [],
   "source": [
    "forecaster = BayesianVARForecaster(\n",
    "    data=df,\n",
    "    var_names=[\"hosp_fac_BOW_7d_avg\", \"dn_viral_activity_level\"],\n",
    "    location=\"Virginia\",\n",
    "    gtdate=\"2023-12-30\",\n",
    "    forecast_steps=4\n",
    ")\n",
    "\n",
    "forecaster.build_model()\n",
    "forecaster.fit()\n",
    "forecaster.generate_forecast(var_index=0)\n",
    "forecaster.format_forecast(target_name=\"wk inc hosp_fac\")\n",
    "summary_df = forecaster.run_inference_summary()\n",
    "\n",
    "forecastdf=forecaster.out_df"
   ]
  }
 ],
 "metadata": {
  "kernelspec": {
   "display_name": "pymc_env",
   "language": "python",
   "name": "pymc_env"
  },
  "language_info": {
   "codemirror_mode": {
    "name": "ipython",
    "version": 3
   },
   "file_extension": ".py",
   "mimetype": "text/x-python",
   "name": "python",
   "nbconvert_exporter": "python",
   "pygments_lexer": "ipython3",
   "version": "3.11.7"
  }
 },
 "nbformat": 4,
 "nbformat_minor": 5
}
